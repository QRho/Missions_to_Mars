{
 "cells": [
  {
   "cell_type": "code",
   "execution_count": 7,
   "metadata": {},
   "outputs": [],
   "source": [
    "from splinter import Browser\n",
    "from selenium import webdriver\n",
    "from selenium.webdriver.common.keys import Keys\n",
    "from bs4 import BeautifulSoup\n",
    "import pandas as pd\n",
    "import requests\n",
    "import os\n"
   ]
  },
  {
   "cell_type": "code",
   "execution_count": 8,
   "metadata": {},
   "outputs": [],
   "source": [
    "executable_path = {'executable_path': 'chromedriver.exe'}\n",
    "browser = Browser('chrome', **executable_path, headless=False)"
   ]
  },
  {
   "cell_type": "code",
   "execution_count": 9,
   "metadata": {},
   "outputs": [],
   "source": [
    "#A\n",
    "url = 'https://mars.nasa.gov/news/'\n",
    "browser.visit(url)"
   ]
  },
  {
   "cell_type": "code",
   "execution_count": 10,
   "metadata": {},
   "outputs": [],
   "source": [
    "    html = browser.html\n",
    "    soup = BeautifulSoup(html, 'html.parser')\n",
    "    news = soup.find_all('div', class_='list_text', limit =1)"
   ]
  },
  {
   "cell_type": "code",
   "execution_count": 11,
   "metadata": {},
   "outputs": [
    {
     "name": "stdout",
     "output_type": "stream",
     "text": [
      "('May 21, 2020', \"Air Deliveries Bring NASA's Perseverance Mars Rover Closer to Launch\", \"A NASA Wallops Flight Facility cargo plane transported more than two tons of equipment — including the rover's sample collection tubes — to Florida for this summer's liftoff.\")\n"
     ]
    }
   ],
   "source": [
    "#A Nasa Mars News\n",
    "\n",
    "date_list=[]\n",
    "title_list=[]\n",
    "article_list=[]\n",
    "\n",
    "   \n",
    "for new in news:\n",
    "    #scrape the article date \n",
    "            date = new.find('div', class_='list_date').text\n",
    "    \n",
    "            date_list.append(date)\n",
    "    \n",
    "    #scrape the article title\n",
    "            title = new.find('div', class_='content_title').text\n",
    "    \n",
    "            title_list.append(title)\n",
    "    \n",
    "    #scrape the article preview\n",
    "            article = new.find('div', class_='article_teaser_body').text\n",
    "    \n",
    "            article_list.append(article)\n",
    "    \n",
    "            allnews=(date,title,article)\n",
    "    \n",
    "#print (allnews)\n",
    "    \n",
    "    \n",
    "            #allnews=(date_list,title_list,article_list)\n",
    "    \n",
    "            print (allnews)\n",
    "        \n",
    "    \n",
    "            #print (news)\n",
    "            #print('-----------------')\n",
    "            #print(date)\n",
    "            #print(title)\n",
    "            #print(article)\n",
    "    \n",
    "    \n",
    "          "
   ]
  },
  {
   "cell_type": "code",
   "execution_count": 6,
   "metadata": {},
   "outputs": [
    {
     "name": "stderr",
     "output_type": "stream",
     "text": [
      "C:\\Users\\Radox Babe\\Anaconda3\\lib\\site-packages\\splinter\\driver\\webdriver\\__init__.py:528: FutureWarning: browser.find_link_by_partial_text is deprecated. Use browser.links.find_by_partial_text instead.\n",
      "  FutureWarning,\n"
     ]
    },
    {
     "name": "stdout",
     "output_type": "stream",
     "text": [
      "https://www.jpl.nasa.gov/spaceimages/images/largesize/PIA19952_hires.jpg\n"
     ]
    }
   ],
   "source": [
    "#B JPL Mars Space Images -Feature Image\n",
    "\n",
    "url = 'https://www.jpl.nasa.gov/spaceimages/?search=&category=Mars'\n",
    "browser.visit(url)\n",
    "\n",
    "\n",
    "html = browser.html\n",
    "soup = BeautifulSoup(html, 'html.parser')\n",
    "\n",
    "\n",
    "soup.find('a', class_='fancybox')\n",
    "browser.click_link_by_id('full_image')\n",
    "\n",
    "\n",
    "\n",
    "soup.find('a', class_='button')\n",
    "browser.click_link_by_partial_text('more info')\n",
    "\n",
    "\n",
    "html = browser.html\n",
    "soup = BeautifulSoup(html, 'html.parser')\n",
    "\n",
    "# Scrape the URL\n",
    "new_image = soup.find('img', class_='main_image')['src']\n",
    "featured_image_url = f'https://www.jpl.nasa.gov{new_image}'\n",
    "\n",
    "print(featured_image_url)\n",
    "\n"
   ]
  },
  {
   "cell_type": "code",
   "execution_count": 12,
   "metadata": {},
   "outputs": [
    {
     "name": "stdout",
     "output_type": "stream",
     "text": [
      "\n",
      "InSight sol 527 (2020-05-20) low -93.0ºC (-135.5ºF) high 0.8ºC (33.4ºF)\n",
      "winds from the SW at 4.7 m/s (10.4 mph) gusting to 18.9 m/s (42.2 mph)\n",
      "pressure at 7.10 hPapic.twitter.com/sg1e7I4L3P\n",
      "\n"
     ]
    }
   ],
   "source": [
    "#C Mars Weather\n",
    "\n",
    "from bs4 import BeautifulSoup\n",
    "import requests\n",
    "res=requests.get('https://twitter.com/'+ 'MarsWxReport')\n",
    "bs=BeautifulSoup(res.content,'lxml')\n",
    "content = bs.find('div',{'class':'content'})\n",
    "all_tweets = bs.find_all('div',{'class':'tweet'})\n",
    "message =content.find('div',{'class':'js-tweet-text-container'}).text\n",
    "  \n",
    "print(message)\n",
    " \n",
    "\n"
   ]
  },
  {
   "cell_type": "code",
   "execution_count": 13,
   "metadata": {},
   "outputs": [
    {
     "name": "stdout",
     "output_type": "stream",
     "text": [
      "<div id=\"facts\"><h2>Facts about Mars</h2><ul><li><strong>Mars and Earth have approximately the same landmass.</strong><br/>Even though Mars has only 15% of the <a href=\"https://space-facts.com/earth/\">Earth’s</a> volume and just over 10% of the Earth’s mass, around two thirds of the Earth’s surface is covered in water. Martian surface gravity is only 37% of the Earth’s (meaning you could leap nearly three times higher on Mars).</li><li><strong>Mars is home to the tallest mountain in the solar system.</strong><br/><a href=\"https://space-facts.com/mars-features/#olympus\">Olympus Mons</a>, a shield volcano, is 21km high and 600km in diameter. Despite having formed over billions of years, evidence from volcanic lava flows is so recent many scientists believe it could still be active.</li><li><strong>Only 18 missions to Mars have been successful.</strong><br/>As of September 2014 there have been 40 <a href=\"https://space-facts.com/mars-missions/\">missions to Mars</a>, including orbiters, landers and rovers but not counting flybys. The most recent arrivals include the Mars Curiosity mission in 2012, the MAVEN mission, which arrived on September 22, 2014, followed by the Indian Space Research Organization’s MOM Mangalyaan orbiter, which arrived on September 24, 2014. The next missions to arrive will be the European Space Agency’s ExoMars mission, comprising an orbiter, lander, and a rover, followed by NASA’s InSight robotic lander mission, slated for launch in March 2016 and a planned arrival in September, 2016.</li><li><strong>Mars has the largest dust storms in the solar system.</strong><br/>They can last for months and cover the entire planet. The seasons are extreme because its elliptical (oval-shaped) orbital path around the Sun is more elongated than most other planets in the <a href=\"https://space-facts.com/solar-system/\">solar system</a>.</li><li><strong>On Mars the Sun appears about half the size as it does on Earth.</strong><br/>At the closest point to the Sun, the Martian southern hemisphere leans towards the Sun, causing a short, intensely hot summer, while the northern hemisphere endures a brief, cold winter: at its farthest point from the Sun, the Martian northern hemisphere leans towards the Sun, causing a long, mild summer, while the southern hemisphere endures a lengthy, cold winter.</li><li><strong>Pieces of Mars have fallen to Earth.</strong><br/>Scientists have found tiny traces of Martian atmosphere within meteorites violently ejected from Mars, then orbiting the solar system amongst galactic debris for millions of years, before crash landing on Earth. This allowed scientists to begin studying Mars prior to launching space missions.</li><li><strong>Mars takes its name from the Roman god of war.</strong><br/>The ancient Greeks called the planet Ares, after their god of war; the Romans then did likewise, associating the planet’s blood-red colour with Mars, their own god of war. Interestingly, other ancient cultures also focused on colour – to China’s astronomers it was ‘the fire star’, whilst Egyptian priests called on ‘Her Desher’, or ‘the red one’. The red colour Mars is known for is due to the rock and dust covering its surface being rich in iron.</li><li><strong>There are signs of liquid water on Mars.</strong><br/>For years Mars has been known to have water in the form of ice. The first signs of trickling water are dark stripes or stains on crater wall and cliffs seen in satellite images. Due to Mars’ atmosphere this water would have to be salty to prevent it from freezing or vaporising.</li><li><strong>One day Mars will have a ring.</strong><br/>In the next 20-40 million years Mars’ largest moon Phobos will be torn apart by gravitational forces leading to the creation of a ring that could last up to 100 million years.</li><li><strong>Sunsets on Mars are blue.</strong><br/>During the martian day the sky is pinkish-red, this is the opposite of the Earth’s skies.</li></ul></div>\n"
     ]
    }
   ],
   "source": [
    "#D  Mars Facts Part A (The print Stuff)\n",
    "#Narrowing down the take from the HTML\n",
    "\n",
    "url = 'https://space-facts.com/mars/'\n",
    "response = requests.get(url)\n",
    "soup = BeautifulSoup(response.text, 'html.parser')\n",
    "#print(soup.prettify())\n",
    "factsresults = soup.find('div',id=\"facts\")\n",
    "print(factsresults)"
   ]
  },
  {
   "cell_type": "code",
   "execution_count": 14,
   "metadata": {},
   "outputs": [
    {
     "data": {
      "text/plain": [
       "<table class=\"tablepress tablepress-id-p-mars\" id=\"tablepress-p-mars\"><tbody><tr class=\"row-1 odd\"><td class=\"column-1\"><strong>Equatorial Diameter:</strong></td><td class=\"column-2\">6,792 km<br/></td></tr><tr class=\"row-2 even\"><td class=\"column-1\"><strong>Polar Diameter:</strong></td><td class=\"column-2\">6,752 km<br/></td></tr><tr class=\"row-3 odd\"><td class=\"column-1\"><strong>Mass:</strong></td><td class=\"column-2\">6.39 × 10^23 kg<br/> (0.11 Earths)</td></tr><tr class=\"row-4 even\"><td class=\"column-1\"><strong>Moons:</strong></td><td class=\"column-2\">2 (<a href=\"https://space-facts.com/moons/phobos/\">Phobos</a> &amp; <a href=\"https://space-facts.com/moons/deimos/\">Deimos</a>)</td></tr><tr class=\"row-5 odd\"><td class=\"column-1\"><strong>Orbit Distance:</strong></td><td class=\"column-2\">227,943,824 km<br/> (1.38 AU)</td></tr><tr class=\"row-6 even\"><td class=\"column-1\"><strong>Orbit Period:</strong></td><td class=\"column-2\">687 days (1.9 years)<br/></td></tr><tr class=\"row-7 odd\"><td class=\"column-1\"><strong>Surface Temperature: </strong></td><td class=\"column-2\">-87 to -5 °C</td></tr><tr class=\"row-8 even\"><td class=\"column-1\"><strong>First Record:</strong></td><td class=\"column-2\">2nd millennium BC</td></tr><tr class=\"row-9 odd\"><td class=\"column-1\"><strong>Recorded By:</strong></td><td class=\"column-2\">Egyptian astronomers</td></tr></tbody></table>"
      ]
     },
     "execution_count": 14,
     "metadata": {},
     "output_type": "execute_result"
    }
   ],
   "source": [
    "#D. Mars Facts the table stuff Part B\n",
    "#Here is where I take just the table\n",
    "url = 'https://space-facts.com/mars/'\n",
    "response = requests.get(url)\n",
    "soup = BeautifulSoup(response.text, 'html.parser')\n",
    "tablefacts= soup.find('table',class_=\"tablepress tablepress-id-p-mars\")\n",
    "tablefacts"
   ]
  },
  {
   "cell_type": "code",
   "execution_count": 15,
   "metadata": {},
   "outputs": [
    {
     "name": "stdout",
     "output_type": "stream",
     "text": [
      "Cerberus Hemisphere Enhanced https://astropedia.astrogeology.usgs.gov/download/Mars/Viking/cerberus_enhanced.tif/full.jpg\n",
      "Schiaparelli Hemisphere Enhanced https://astropedia.astrogeology.usgs.gov/download/Mars/Viking/schiaparelli_enhanced.tif/full.jpg\n",
      "Syrtis Major Hemisphere Enhanced https://astropedia.astrogeology.usgs.gov/download/Mars/Viking/syrtis_major_enhanced.tif/full.jpg\n",
      "Valles Marineris Hemisphere Enhanced https://astropedia.astrogeology.usgs.gov/download/Mars/Viking/valles_marineris_enhanced.tif/full.jpg\n"
     ]
    }
   ],
   "source": [
    "#E Mars Hemispheres\n",
    "import time\n",
    "url='https://astrogeology.usgs.gov/search/results?q=hemisphere+enhanced&k1=target&v1=Mars'\n",
    "browser.visit(url)\n",
    "\n",
    "Hemisphere_imgurl=[]\n",
    "\n",
    "for i in range(4):\n",
    "    url='https://astrogeology.usgs.gov/search/results?q=hemisphere+enhanced&k1=target&v1=Mars'\n",
    "    browser.visit(url)\n",
    "    #print (browser.find_by_css('h3')[i].text)    \n",
    "    browser.find_by_css('h3')[i].click()\n",
    "    time.sleep(5)\n",
    "    browser_html=browser.html\n",
    "    browser_soup=BeautifulSoup(browser_html, 'html.parser')\n",
    "    #print(browser_soup.find_all('h2',class_='title')[0])\n",
    "    try:\n",
    "        title=browser_soup.find('h2',class_='title').get_text()\n",
    "        imageurl=browser_soup.find('a',text='Sample').get('href')\n",
    "        print(title,imageurl)\n",
    "          \n",
    "    except AttributeError: \n",
    "        title = None\n",
    "        imageurl = None\n",
    "        print(title,imageurl)\n",
    "        \n",
    "#IGNORE MY WORK BELOW this is for me.\n",
    "\n",
    "#browser.click_link_by_partial_text('Cerberus Hemisphere Enhanced')\n",
    "#browser.click_link_by_partial_text('Sample')\n",
    "\n",
    "#soup.find('a', class_='itemLink product-item')\n",
    "#browser.links.find_by_text('Cerberus Hemisphere Enhanced')\n",
    "\n",
    "#image1 = soup.find('a', class_=\")\n",
    "#print(image1[\"src\"])\n",
    "#html = browser.html\n",
    "#soup = BeautifulSoup(html, 'html.parser')\n",
    "#images = soup.findAll('img')\n",
    "\n",
    "# Scrape the URL\n",
    "#new_image = soup.find \n",
    "#Image1= f'https://www.jpl.nasa.gov{new_image}'\n",
    "\n",
    "#print(Image1)\n",
    "\n",
    "#imgs =  browser.find_by_tag('img')\n",
    "#new_image=soup.find('body')['src']\n",
    "\n",
    "#image1= f'https://www.jpl.nasa.gov{new_image}'\n",
    "\n",
    "#print(image1)\n",
    "\n",
    "#One=browser.current_url\n",
    "#print(One)\n",
    "\n",
    "#img.click\n",
    "#browser.links.find_by_text('Cerberus Hemisphere Enhanced')\n",
    "#hemispheretitle=\n",
    "#hemisphereimage=\n",
    "\n",
    "#response = requests.get(url)\n",
    "#soup = BeautifulSoup(response.text, 'html.parser')\n",
    "#Ten=browser.find_by_css('h3')\n",
    "#Ten"
   ]
  },
  {
   "cell_type": "code",
   "execution_count": null,
   "metadata": {},
   "outputs": [],
   "source": []
  },
  {
   "cell_type": "code",
   "execution_count": null,
   "metadata": {},
   "outputs": [],
   "source": []
  }
 ],
 "metadata": {
  "kernelspec": {
   "display_name": "Python 3",
   "language": "python",
   "name": "python3"
  },
  "language_info": {
   "codemirror_mode": {
    "name": "ipython",
    "version": 3
   },
   "file_extension": ".py",
   "mimetype": "text/x-python",
   "name": "python",
   "nbconvert_exporter": "python",
   "pygments_lexer": "ipython3",
   "version": "3.7.4"
  }
 },
 "nbformat": 4,
 "nbformat_minor": 2
}
